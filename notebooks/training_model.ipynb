{
 "cells": [
  {
   "cell_type": "code",
   "execution_count": 1,
   "metadata": {},
   "outputs": [],
   "source": [
    "import os\n",
    "import sys\n",
    "import pathlib\n",
    "\n",
    "module_path = os.path.abspath(os.path.join('..'))\n",
    "\n",
    "if module_path not in sys.path:\n",
    "    sys.path.append(module_path)\n",
    "\n",
    "from sklearn.model_selection import train_test_split\n",
    "import tensorflow as tf\n",
    "import pathlib\n",
    "from utils.dataset import generate_dataset"
   ]
  },
  {
   "cell_type": "code",
   "execution_count": 2,
   "metadata": {},
   "outputs": [],
   "source": [
    "data_image, data_label = generate_dataset()"
   ]
  },
  {
   "cell_type": "code",
   "execution_count": 3,
   "metadata": {},
   "outputs": [],
   "source": [
    "X_train, X_test, y_train, y_test = train_test_split(data_image, data_label, test_size=0.05, shuffle=True, stratify=data_label)"
   ]
  },
  {
   "cell_type": "code",
   "execution_count": 6,
   "metadata": {},
   "outputs": [],
   "source": [
    "model = tf.keras.Sequential([\n",
    "    tf.keras.layers.Flatten(input_shape=(28, 28)),\n",
    "    tf.keras.layers.Dense(64, activation='relu'),\n",
    "    tf.keras.layers.Dense(10, activation='softmax')\n",
    "])\n",
    "\n",
    "callback = tf.keras.callbacks.EarlyStopping(monitor='val_loss', patience=3)\n",
    "\n",
    "model.compile(optimizer='adam',\n",
    "              loss=tf.keras.losses.SparseCategoricalCrossentropy(from_logits=False),\n",
    "              metrics=['accuracy'])"
   ]
  },
  {
   "cell_type": "code",
   "execution_count": 7,
   "metadata": {},
   "outputs": [
    {
     "name": "stdout",
     "output_type": "stream",
     "text": [
      "Epoch 1/25\n",
      "2803/2803 [==============================] - 4s 1ms/step - loss: 1.9432 - accuracy: 0.2954 - val_loss: 1.7101 - val_accuracy: 0.3622\n",
      "Epoch 2/25\n",
      "2803/2803 [==============================] - 3s 1ms/step - loss: 1.2824 - accuracy: 0.5690 - val_loss: 1.2679 - val_accuracy: 0.5609\n",
      "Epoch 3/25\n",
      "2803/2803 [==============================] - 3s 1ms/step - loss: 0.8891 - accuracy: 0.7192 - val_loss: 1.0721 - val_accuracy: 0.6282\n",
      "Epoch 4/25\n",
      "2803/2803 [==============================] - 3s 1ms/step - loss: 0.6483 - accuracy: 0.8002 - val_loss: 0.9767 - val_accuracy: 0.6250\n",
      "Epoch 5/25\n",
      "2803/2803 [==============================] - 3s 1ms/step - loss: 0.4892 - accuracy: 0.8630 - val_loss: 0.8752 - val_accuracy: 0.7083\n",
      "Epoch 6/25\n",
      "2803/2803 [==============================] - 3s 1ms/step - loss: 0.3700 - accuracy: 0.8898 - val_loss: 0.9122 - val_accuracy: 0.7019\n",
      "Epoch 7/25\n",
      "2803/2803 [==============================] - 3s 1ms/step - loss: 0.2963 - accuracy: 0.9179 - val_loss: 0.8082 - val_accuracy: 0.7308\n",
      "Epoch 8/25\n",
      "2803/2803 [==============================] - 3s 1ms/step - loss: 0.2156 - accuracy: 0.9401 - val_loss: 0.7873 - val_accuracy: 0.7436\n",
      "Epoch 9/25\n",
      "2803/2803 [==============================] - 4s 1ms/step - loss: 0.1713 - accuracy: 0.9547 - val_loss: 0.8906 - val_accuracy: 0.7244\n",
      "Epoch 10/25\n",
      "2803/2803 [==============================] - 4s 1ms/step - loss: 0.1392 - accuracy: 0.9654 - val_loss: 0.8009 - val_accuracy: 0.7724\n",
      "Epoch 11/25\n",
      "2803/2803 [==============================] - 3s 1ms/step - loss: 0.1068 - accuracy: 0.9768 - val_loss: 0.8461 - val_accuracy: 0.7724\n"
     ]
    },
    {
     "data": {
      "text/plain": [
       "<keras.callbacks.History at 0x1dc5f73a4d0>"
      ]
     },
     "execution_count": 7,
     "metadata": {},
     "output_type": "execute_result"
    }
   ],
   "source": [
    "model.fit(X_train, y_train, epochs=25, batch_size=1, callbacks=[callback], validation_split=0.1)"
   ]
  },
  {
   "cell_type": "code",
   "execution_count": 9,
   "metadata": {},
   "outputs": [
    {
     "name": "stdout",
     "output_type": "stream",
     "text": [
      "INFO:tensorflow:Assets written to: ../my_model\\assets\n"
     ]
    }
   ],
   "source": [
    "model.save('../my_model', overwrite=True)"
   ]
  }
 ],
 "metadata": {
  "kernelspec": {
   "display_name": "Python 3.10.6 ('data_sci')",
   "language": "python",
   "name": "python3"
  },
  "language_info": {
   "codemirror_mode": {
    "name": "ipython",
    "version": 3
   },
   "file_extension": ".py",
   "mimetype": "text/x-python",
   "name": "python",
   "nbconvert_exporter": "python",
   "pygments_lexer": "ipython3",
   "version": "3.10.6"
  },
  "orig_nbformat": 4,
  "vscode": {
   "interpreter": {
    "hash": "869c6464dec6a7f03789e2147eca4875bbcb4ae8064316a23499cf3f44b382e4"
   }
  }
 },
 "nbformat": 4,
 "nbformat_minor": 2
}
