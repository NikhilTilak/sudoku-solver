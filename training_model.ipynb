{
 "cells": [
  {
   "cell_type": "code",
   "execution_count": 1,
   "metadata": {},
   "outputs": [],
   "source": [
    "from sklearn.model_selection import train_test_split\n",
    "import tensorflow as tf\n",
    "import pathlib\n",
    "from dataset import generate_dataset"
   ]
  },
  {
   "cell_type": "code",
   "execution_count": 2,
   "metadata": {},
   "outputs": [],
   "source": [
    "data_image, data_label = generate_dataset()"
   ]
  },
  {
   "cell_type": "code",
   "execution_count": 3,
   "metadata": {},
   "outputs": [],
   "source": [
    "X_train, X_test, y_train, y_test = train_test_split(data_image, data_label, test_size=0.05, shuffle=True, stratify=data_label)"
   ]
  },
  {
   "cell_type": "code",
   "execution_count": 6,
   "metadata": {},
   "outputs": [],
   "source": [
    "model = tf.keras.Sequential([\n",
    "    tf.keras.layers.Flatten(input_shape=(28, 28)),\n",
    "    tf.keras.layers.Dense(64, activation='relu'),\n",
    "    tf.keras.layers.Dense(10, activation='softmax')\n",
    "])\n",
    "\n",
    "callback = tf.keras.callbacks.EarlyStopping(monitor='val_loss', patience=3)\n",
    "\n",
    "model.compile(optimizer='adam',\n",
    "              loss=tf.keras.losses.SparseCategoricalCrossentropy(from_logits=False),\n",
    "              metrics=['sparse_categorical_accuracy'])"
   ]
  },
  {
   "cell_type": "code",
   "execution_count": 7,
   "metadata": {},
   "outputs": [
    {
     "name": "stdout",
     "output_type": "stream",
     "text": [
      "Epoch 1/25\n",
      "935/935 [==============================] - 2s 2ms/step - loss: 2.0564 - sparse_categorical_accuracy: 0.2508 - val_loss: 1.7156 - val_sparse_categorical_accuracy: 0.4327\n",
      "Epoch 2/25\n",
      "935/935 [==============================] - 1s 1ms/step - loss: 1.5141 - sparse_categorical_accuracy: 0.5070 - val_loss: 1.3182 - val_sparse_categorical_accuracy: 0.5897\n",
      "Epoch 3/25\n",
      "935/935 [==============================] - 1s 1ms/step - loss: 1.1047 - sparse_categorical_accuracy: 0.6679 - val_loss: 1.1228 - val_sparse_categorical_accuracy: 0.6378\n",
      "Epoch 4/25\n",
      "935/935 [==============================] - 1s 1ms/step - loss: 0.8415 - sparse_categorical_accuracy: 0.7595 - val_loss: 0.9426 - val_sparse_categorical_accuracy: 0.7083\n",
      "Epoch 5/25\n",
      "935/935 [==============================] - 1s 1ms/step - loss: 0.6543 - sparse_categorical_accuracy: 0.8188 - val_loss: 0.8371 - val_sparse_categorical_accuracy: 0.7468\n",
      "Epoch 6/25\n",
      "935/935 [==============================] - 1s 1ms/step - loss: 0.5126 - sparse_categorical_accuracy: 0.8644 - val_loss: 0.7772 - val_sparse_categorical_accuracy: 0.7853\n",
      "Epoch 7/25\n",
      "935/935 [==============================] - 1s 1ms/step - loss: 0.4025 - sparse_categorical_accuracy: 0.9033 - val_loss: 0.7515 - val_sparse_categorical_accuracy: 0.7788\n",
      "Epoch 8/25\n",
      "935/935 [==============================] - 1s 1ms/step - loss: 0.3158 - sparse_categorical_accuracy: 0.9222 - val_loss: 0.6714 - val_sparse_categorical_accuracy: 0.7917\n",
      "Epoch 9/25\n",
      "935/935 [==============================] - 1s 1ms/step - loss: 0.2529 - sparse_categorical_accuracy: 0.9408 - val_loss: 0.6981 - val_sparse_categorical_accuracy: 0.7532\n",
      "Epoch 10/25\n",
      "935/935 [==============================] - 1s 1ms/step - loss: 0.1957 - sparse_categorical_accuracy: 0.9640 - val_loss: 0.6661 - val_sparse_categorical_accuracy: 0.8205\n",
      "Epoch 11/25\n",
      "935/935 [==============================] - 1s 1ms/step - loss: 0.1521 - sparse_categorical_accuracy: 0.9757 - val_loss: 0.6113 - val_sparse_categorical_accuracy: 0.8045\n",
      "Epoch 12/25\n",
      "935/935 [==============================] - 1s 1ms/step - loss: 0.1263 - sparse_categorical_accuracy: 0.9793 - val_loss: 0.6334 - val_sparse_categorical_accuracy: 0.8109\n",
      "Epoch 13/25\n",
      "935/935 [==============================] - 1s 1ms/step - loss: 0.0976 - sparse_categorical_accuracy: 0.9882 - val_loss: 0.6686 - val_sparse_categorical_accuracy: 0.8173\n",
      "Epoch 14/25\n",
      "935/935 [==============================] - 1s 1ms/step - loss: 0.0779 - sparse_categorical_accuracy: 0.9911 - val_loss: 0.6589 - val_sparse_categorical_accuracy: 0.8205\n"
     ]
    },
    {
     "data": {
      "text/plain": [
       "<keras.callbacks.History at 0x23377721420>"
      ]
     },
     "execution_count": 7,
     "metadata": {},
     "output_type": "execute_result"
    }
   ],
   "source": [
    "model.fit(X_train, y_train, epochs=25, batch_size=3, callbacks=[callback], validation_split=0.1)"
   ]
  },
  {
   "cell_type": "code",
   "execution_count": 8,
   "metadata": {},
   "outputs": [
    {
     "name": "stdout",
     "output_type": "stream",
     "text": [
      "INFO:tensorflow:Assets written to: my_model\\assets\n"
     ]
    }
   ],
   "source": [
    "model.save('my_model', overwrite=True)"
   ]
  }
 ],
 "metadata": {
  "kernelspec": {
   "display_name": "Python 3.10.6 ('data_sci')",
   "language": "python",
   "name": "python3"
  },
  "language_info": {
   "codemirror_mode": {
    "name": "ipython",
    "version": 3
   },
   "file_extension": ".py",
   "mimetype": "text/x-python",
   "name": "python",
   "nbconvert_exporter": "python",
   "pygments_lexer": "ipython3",
   "version": "3.10.6"
  },
  "orig_nbformat": 4,
  "vscode": {
   "interpreter": {
    "hash": "869c6464dec6a7f03789e2147eca4875bbcb4ae8064316a23499cf3f44b382e4"
   }
  }
 },
 "nbformat": 4,
 "nbformat_minor": 2
}
